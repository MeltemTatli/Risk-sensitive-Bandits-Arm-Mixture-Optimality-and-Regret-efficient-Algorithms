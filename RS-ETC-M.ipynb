{
 "cells": [
  {
   "cell_type": "code",
   "execution_count": 1,
   "id": "78c99e84",
   "metadata": {},
   "outputs": [],
   "source": [
    "import numpy as np"
   ]
  },
  {
   "cell_type": "code",
   "execution_count": 2,
   "id": "483d1ed6",
   "metadata": {},
   "outputs": [],
   "source": [
    "def Mixtures(tauO, p_arms):\n",
    "    p_out = 0\n",
    "    for i in range(len(tauO)):\n",
    "        p_out += tauO[i]*p_arms[i]\n",
    "    return p_out"
   ]
  },
  {
   "cell_type": "code",
   "execution_count": 3,
   "id": "6f1f1911",
   "metadata": {},
   "outputs": [],
   "source": [
    "def Utility(p):\n",
    "    #utility function\n",
    "    return p*(1-p)"
   ]
  },
  {
   "cell_type": "code",
   "execution_count": 4,
   "id": "dc496ccf",
   "metadata": {},
   "outputs": [],
   "source": [
    "def ETC(K=2, T = 100000, pb = [0.35, 0.85], v=2):\n",
    "    eps = (K/T)**(1/2)*np.sqrt(np.log(T))\n",
    "    I = np.linspace(0, 1, int(np.ceil(1/eps)))\n",
    "    \n",
    "    MAX_U = 0 \n",
    "    for alpha_bar in I:\n",
    "        for i in range(K):\n",
    "            for j in range(i+1, K):\n",
    "                temp_alpha = np.zeros((K))\n",
    "                temp_alpha[i] = alpha_bar\n",
    "                temp_alpha[j] = 1-alpha_bar\n",
    "\n",
    "                temp_U = Utility(Mixtures(temp_alpha, pb))\n",
    "                \n",
    "                if temp_U > MAX_U:\n",
    "                    MAX_U = temp_U\n",
    "                \n",
    "                \n",
    "                \n",
    "    \n",
    "    DELTA = 1/4 - MAX_U\n",
    "    \n",
    "    #N = K**(1+2/q)/v*(2*L/DELTA)**(2/q)*np.log(2*K*T*((1/eps)**(K-1)+1))\n",
    "    #For the T values we have experimented, N > T and hence, to be able run experiments we have assigned a large value\n",
    "    #to N instead which is T/2. For larger T values such that N < T, uncomment the line above.\n",
    "    \n",
    "    N = T/2\n",
    "    \n",
    "\n",
    "    tau_T = np.zeros((K))\n",
    "\n",
    "    emp_pb = np.zeros((K))\n",
    "    \n",
    "    regrets = []\n",
    "    \n",
    "    opt_alpha = np.zeros((K))\n",
    "    \n",
    "    #EXPLORATION\n",
    "    starttime = 0\n",
    "    for i in range(K):\n",
    "        for time in range(starttime, starttime + int(N/K)):\n",
    "            reward = np.random.binomial(size=1, n=1, p=(pb[i]))\n",
    "            \n",
    "            emp_pb[i] = float(emp_pb[i]*tau_T[i] + reward)/(tau_T[i] + 1)\n",
    "            \n",
    "            tau_T[i] += 1\n",
    "            \n",
    "    \n",
    "        starttime = time + 1\n",
    "     \n",
    "    \n",
    "    max_UCB = 0 \n",
    "    for alphaT in I:\n",
    "        for i in range(K):\n",
    "            for j in range(i+1, K):\n",
    "                temp_alpha = np.zeros((K))\n",
    "                temp_alpha[i] = alphaT\n",
    "                temp_alpha[j] = 1-alphaT\n",
    "                \n",
    "                if Utility(Mixtures(temp_alpha, emp_pb)) > max_UCB:\n",
    "                    max_UCB = Utility(Mixtures(temp_alpha, emp_pb))\n",
    "                    opt_alpha = temp_alpha\n",
    "                \n",
    "  \n",
    "    \n",
    "    for i in range(K):\n",
    "        chosen_arm = i\n",
    "        stop_time = int(min(starttime + np.floor(T*opt_alpha)[i]-N/K, T))\n",
    "    \n",
    "        for time in range(starttime, stop_time):\n",
    "            reward = np.random.binomial(size=1, n=1, p=(pb[chosen_arm]))\n",
    "\n",
    "            emp_pb[chosen_arm] = float(emp_pb[chosen_arm]*tau_T[chosen_arm] + reward)/(tau_T[chosen_arm] + 1)\n",
    "\n",
    "            tau_T[chosen_arm] += 1\n",
    "        \n",
    "        starttime = time + 1\n",
    "        \n",
    "\n",
    "        \n",
    "    regret = 1/4-Utility(Mixtures(tau_T/T, pb))\n",
    "        \n",
    "    return regret, emp_pb, tau_T\n",
    "\n",
    "    "
   ]
  },
  {
   "cell_type": "markdown",
   "id": "cb0bceb0",
   "metadata": {},
   "source": [
    "## Time Horizon Experiments\n"
   ]
  },
  {
   "cell_type": "markdown",
   "id": "0a115f70",
   "metadata": {},
   "source": [
    "T_list := list of different time horizons <br />\n",
    "file_path := name of the txt file for data to be saved <br />\n",
    "pb[0] := mean of the first arm <br />\n",
    "pb[1] := mean of the second arm <br />"
   ]
  },
  {
   "cell_type": "code",
   "execution_count": 5,
   "id": "6e65de35",
   "metadata": {},
   "outputs": [],
   "source": [
    "import os\n",
    "T_list = [100000, 200000, 300000, 400000, 500000]\n",
    "pb=[0.4, 0.9]\n",
    "\n",
    "file_path = \"Regrets_ETC_T.txt\"\n",
    "for T in T_list:\n",
    "    for save_idx in range(1000):\n",
    "        regret, emp_pb, tau_T = ETC(K=2, T = T, pb=pb, v=2)\n",
    "        \n",
    "\n",
    "        with open(file_path, \"a+\") as file:\n",
    "            file.write(f'T={T}, K=2, p1={pb[0]}, p2={pb[1]}, RESULT: tau(T)={tau_T}, emp_pb={emp_pb} \\n')"
   ]
  },
  {
   "cell_type": "markdown",
   "id": "9f95d063",
   "metadata": {},
   "source": [
    "## Number of Arms Experiments\n"
   ]
  },
  {
   "cell_type": "markdown",
   "id": "3adc831e",
   "metadata": {},
   "source": [
    "K_list := list of different number of arms <br />\n",
    "file_path := name of the txt file for data to be saved <br />\n",
    "p1 := mean of the first arm <br />\n",
    "p2 := mean of the second arm <br />\n",
    "zeta := exploration coefficient <br />"
   ]
  },
  {
   "cell_type": "code",
   "execution_count": 6,
   "id": "2c6d888d",
   "metadata": {},
   "outputs": [],
   "source": [
    "T = 300000\n",
    "K_list = [2, 3, 4, 5, 6]\n",
    "pb = [0.45, 0.60, 0.75, 0.9, 0.3 , 0.15]\n",
    "\n",
    "file_path = \"Regrets_ETC_K.txt\"\n",
    "for K in K_list:\n",
    "    for save_idx in range(1000):\n",
    "        regret, emp_pb, tau_T = ETC(K=K, T = T, pb=pb[:K], v=2)\n",
    "        \n",
    "\n",
    "        with open(file_path, \"a+\") as file:\n",
    "            file.write(f'T={T}, K={K}, pb={pb}, RESULT: tau(T)={tau_T}, emp_pb={emp_pb} \\n')\n"
   ]
  }
 ],
 "metadata": {
  "kernelspec": {
   "display_name": "Python 3 (ipykernel)",
   "language": "python",
   "name": "python3"
  },
  "language_info": {
   "codemirror_mode": {
    "name": "ipython",
    "version": 3
   },
   "file_extension": ".py",
   "mimetype": "text/x-python",
   "name": "python",
   "nbconvert_exporter": "python",
   "pygments_lexer": "ipython3",
   "version": "3.11.4"
  }
 },
 "nbformat": 4,
 "nbformat_minor": 5
}
