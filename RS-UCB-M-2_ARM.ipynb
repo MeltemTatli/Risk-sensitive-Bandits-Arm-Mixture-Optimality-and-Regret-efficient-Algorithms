{
 "cells": [
  {
   "cell_type": "markdown",
   "id": "941c2e29",
   "metadata": {},
   "source": [
    "# RS-UCB-M"
   ]
  },
  {
   "cell_type": "markdown",
   "id": "de43628a",
   "metadata": {},
   "source": [
    "Import the necessary libraries"
   ]
  },
  {
   "cell_type": "code",
   "execution_count": 1,
   "id": "93ab36b2",
   "metadata": {},
   "outputs": [],
   "source": [
    "import numpy as np\n",
    "import matplotlib.pyplot as plt\n",
    "import random"
   ]
  },
  {
   "cell_type": "markdown",
   "id": "5eeafbef",
   "metadata": {},
   "source": [
    "Define the utility function"
   ]
  },
  {
   "cell_type": "code",
   "execution_count": 2,
   "id": "ca6c5bfe",
   "metadata": {},
   "outputs": [],
   "source": [
    "def Utility(p):\n",
    "    return p*(1-p)"
   ]
  },
  {
   "cell_type": "markdown",
   "id": "9f6fdfb5",
   "metadata": {},
   "source": [
    "The parameter of the utility function is the weighted summation of arm means"
   ]
  },
  {
   "cell_type": "code",
   "execution_count": 3,
   "id": "7ebfdb63",
   "metadata": {},
   "outputs": [],
   "source": [
    "def MixturesP(p, p_arms):\n",
    "    p_out = 1-(p[0]*(1-p_arms[0]) + (p[1])*(1-p_arms[1]))\n",
    "    return p_out"
   ]
  },
  {
   "cell_type": "markdown",
   "id": "a301b5b5",
   "metadata": {},
   "source": [
    "Define confidence set"
   ]
  },
  {
   "cell_type": "code",
   "execution_count": 4,
   "id": "0727c11b",
   "metadata": {},
   "outputs": [],
   "source": [
    "def phi_inverse(x, v):\n",
    "    return 2*np.sqrt(x/v)"
   ]
  },
  {
   "cell_type": "markdown",
   "id": "c8008739",
   "metadata": {},
   "source": [
    "At time instant t, choose possible alpha values and decide one of them randomly as for the 2-arm case the optimizer is unique"
   ]
  },
  {
   "cell_type": "code",
   "execution_count": 5,
   "id": "58f2b2b7",
   "metadata": {},
   "outputs": [],
   "source": [
    "def UCBalpha(I, CS, K):  \n",
    "    opt_alpha_SET = []\n",
    "    for idx, alphaT in enumerate(I):\n",
    "        C_temp = np.zeros((2))\n",
    "        \n",
    "        C_temp[0] = alphaT*CS[0][0]+(1-alphaT)*CS[1][0]\n",
    "        C_temp[1] = alphaT*CS[0][1]+(1-alphaT)*CS[1][1]\n",
    "                    \n",
    "\n",
    "\n",
    "\n",
    "        if C_temp[0] <= 1/2 <= C_temp[1]:\n",
    "            opt_alpha_SET.append(alphaT)\n",
    "            \n",
    "        else:\n",
    "            pass\n",
    "        \n",
    "        \n",
    "    return random.choice(opt_alpha_SET)"
   ]
  },
  {
   "cell_type": "markdown",
   "id": "6371e0a6",
   "metadata": {},
   "source": [
    "Main algorithm. First stage is exploring each arm the same amount. The second stage is undersampling according to the estimator chosen"
   ]
  },
  {
   "cell_type": "code",
   "execution_count": 6,
   "id": "55814f9a",
   "metadata": {},
   "outputs": [],
   "source": [
    "def UCB(zeta=0.1, K=2, T = 10000, p1 = 0.35, p2 = 0.85, v=2):\n",
    "    eps = np.sqrt(K/T)*np.sqrt(np.log(T))\n",
    "                        \n",
    "    I = np.linspace(0, 1, int(np.ceil(1/eps)))\n",
    "\n",
    "    tau_T = np.zeros((K))\n",
    "\n",
    "    pb = [p1, p2]\n",
    "\n",
    "    emp_pb = np.zeros((K))\n",
    "    \n",
    "    CS = np.zeros((K, 2))\n",
    "    \n",
    "    regrets = []\n",
    "    \n",
    "    #EXPLORATION\n",
    "    starttime = 0\n",
    "    for i in range(K):\n",
    "        for time in range(starttime, starttime + int(zeta*T)):\n",
    "            reward = np.random.binomial(size=1, n=1, p=(pb[i]))\n",
    "            \n",
    "            emp_pb[i] = float(emp_pb[i]*tau_T[i] + reward)/(tau_T[i] + 1)\n",
    "            \n",
    "            tau_T[i] += 1\n",
    "            \n",
    "    \n",
    "        starttime = time + 1\n",
    "        \n",
    "        \n",
    "        \n",
    "    for i in range(K):    \n",
    "        CS[i][1] = min(emp_pb[i] + phi_inverse(np.log(time)/tau_T[i], v), 1)\n",
    "        CS[i][0] = max(emp_pb[i] - phi_inverse(np.log(time)/tau_T[i], v), 0)\n",
    "        \n",
    "    opt_alpha = UCBalpha(I, CS, K)\n",
    "        \n",
    "\n",
    "    \n",
    "    for time in range(starttime, T):\n",
    "        chosen_arm = np.argmax(np.array([opt_alpha, 1-opt_alpha]) - tau_T/time)\n",
    "        \n",
    "        reward = np.random.binomial(size=1, n=1, p=(pb[chosen_arm]))\n",
    "        \n",
    "        emp_pb[chosen_arm] = float(emp_pb[chosen_arm]*tau_T[chosen_arm] + reward)/(tau_T[chosen_arm] + 1)\n",
    "\n",
    "        tau_T[chosen_arm] += 1\n",
    "        \n",
    "        CS[i][1] = min(emp_pb[i] + phi_inverse(np.log(time)/tau_T[i], v), 1)\n",
    "        CS[i][0] = max(emp_pb[i] - phi_inverse(np.log(time)/tau_T[i], v), 0)\n",
    "        \n",
    "        opt_alpha = UCBalpha(I, CS, K)\n",
    "\n",
    "        \n",
    "    regret = 1/4-Utility(MixturesP(tau_T/T, pb))\n",
    "        \n",
    "    return regret, emp_pb, tau_T, CS\n",
    "\n",
    "    "
   ]
  },
  {
   "cell_type": "markdown",
   "id": "bc832c6e",
   "metadata": {},
   "source": [
    "## Means of Arms Experiments\n"
   ]
  },
  {
   "cell_type": "markdown",
   "id": "32677489",
   "metadata": {},
   "source": [
    "eta_list := p1-p2 <br />\n",
    "file_path := name of the txt file for data to be saved <br />\n",
    "T : time horizon <br />\n",
    "p1 := mean of the first arm <br />\n",
    "p2 := mean of the second arm <br />\n",
    "zeta := exploration coefficient <br />"
   ]
  },
  {
   "cell_type": "code",
   "execution_count": 8,
   "id": "621992d4",
   "metadata": {},
   "outputs": [],
   "source": [
    "eta_list = [0.1, 0.2, 0.4, 0.5]\n",
    "p1=0.55\n",
    "\n",
    "file_path = \"Regrets_eta.txt\"\n",
    "for eta in eta_list:\n",
    "    for save_idx in range(1000):\n",
    "        regret, emp_pb, tau_T, CS = UCB(zeta=0.1, K=2, T = 100000, p1 = p1, p2 = p1-eta, v=2)\n",
    "        \n",
    "\n",
    "        with open(file_path, \"a+\") as file:\n",
    "            file.write(f'T={100000}, zeta={0.1}, K=2, p1={p1}, p2={p1-eta}, RESULT: tau(T)={tau_T}, emp_pb={emp_pb} \\n')\n"
   ]
  },
  {
   "cell_type": "code",
   "execution_count": 9,
   "id": "9d5ff3b9",
   "metadata": {},
   "outputs": [],
   "source": [
    "eta_list = [0.15, 0.25, 0.35, 0.45, 0.55]\n",
    "p1=0.59\n",
    "\n",
    "file_path = \"Regrets_eta_2.txt\"\n",
    "for eta in eta_list:\n",
    "    for save_idx in range(1000):\n",
    "        regret, emp_pb, tau_T, CS = UCB(zeta=0.1, K=2, T = 100000, p1 = p1, p2 = p1-eta, v=2)\n",
    "        \n",
    "\n",
    "        with open(file_path, \"a+\") as file:\n",
    "            file.write(f'T={100000}, zeta={0.1}, K=2, p1={p1}, p2={p1-eta}, RESULT: tau(T)={tau_T}, emp_pb={emp_pb} \\n')\n"
   ]
  },
  {
   "cell_type": "markdown",
   "id": "2a4ee82c",
   "metadata": {},
   "source": [
    "## Time Horizon Experiments\n"
   ]
  },
  {
   "cell_type": "markdown",
   "id": "b508d17d",
   "metadata": {},
   "source": [
    "T_list := list of different time horizons <br />\n",
    "file_path := name of the txt file for data to be saved <br />\n",
    "p1 := mean of the first arm <br />\n",
    "p2 := mean of the second arm <br />\n",
    "zeta := exploration coefficient <br />"
   ]
  },
  {
   "cell_type": "code",
   "execution_count": 7,
   "id": "66802832",
   "metadata": {},
   "outputs": [],
   "source": [
    "import os\n",
    "T_list = [10000, 20000, 30000, 40000, 50000]\n",
    "p1=0.4\n",
    "p2=0.9\n",
    "\n",
    "file_path = \"Regrets_T.txt\"\n",
    "for T in T_list:\n",
    "    for save_idx in range(1000):\n",
    "        regret, emp_pb, tau_T, CS = UCB(zeta=0.1, K=2, T = T, p1 = p1, p2 = p2, v=2)\n",
    "        \n",
    "\n",
    "        with open(file_path, \"a+\") as file:\n",
    "            file.write(f'T={T}, zeta={0.1}, K=2, p1={p1}, p2={p2}, RESULT: tau(T)={tau_T}, emp_pb={emp_pb} \\n')"
   ]
  },
  {
   "cell_type": "code",
   "execution_count": null,
   "id": "2e89bf3d",
   "metadata": {},
   "outputs": [],
   "source": []
  }
 ],
 "metadata": {
  "kernelspec": {
   "display_name": "Python 3 (ipykernel)",
   "language": "python",
   "name": "python3"
  },
  "language_info": {
   "codemirror_mode": {
    "name": "ipython",
    "version": 3
   },
   "file_extension": ".py",
   "mimetype": "text/x-python",
   "name": "python",
   "nbconvert_exporter": "python",
   "pygments_lexer": "ipython3",
   "version": "3.11.4"
  },
  "vscode": {
   "interpreter": {
    "hash": "68c873ba86ede78885f78170f8324fac05ab4b3121f01252b0d7257aa2a6728e"
   }
  }
 },
 "nbformat": 4,
 "nbformat_minor": 5
}
