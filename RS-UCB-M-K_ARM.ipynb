{
 "cells": [
  {
   "cell_type": "markdown",
   "id": "fbcb1146",
   "metadata": {},
   "source": [
    "# RS-UCB-M for K-arm"
   ]
  },
  {
   "cell_type": "markdown",
   "id": "d5d5d49f",
   "metadata": {},
   "source": [
    "Import necessary libraries"
   ]
  },
  {
   "cell_type": "code",
   "execution_count": 1,
   "id": "f6db46f3",
   "metadata": {},
   "outputs": [],
   "source": [
    "import numpy as np"
   ]
  },
  {
   "cell_type": "markdown",
   "id": "eb936725",
   "metadata": {},
   "source": [
    "Define the utility function <br />  \n",
    "The parameter of the utility function is the weighted average of the means"
   ]
  },
  {
   "cell_type": "code",
   "execution_count": 2,
   "id": "918e3ac3",
   "metadata": {},
   "outputs": [],
   "source": [
    "def Mixtures(tauO, p_arms):\n",
    "    #tau0 = tau(T)/T\n",
    "    #p_arms --> bernoulli probability of each arm\n",
    "    p_out = 0\n",
    "    for i in range(len(tauO)):\n",
    "        p_out += tauO[i]*p_arms[i]\n",
    "    return p_out"
   ]
  },
  {
   "cell_type": "code",
   "execution_count": 3,
   "id": "64427ab9",
   "metadata": {},
   "outputs": [],
   "source": [
    "def Utility(p):\n",
    "    #utility function\n",
    "    return p*(1-p)"
   ]
  },
  {
   "cell_type": "markdown",
   "id": "6e7ab772",
   "metadata": {},
   "source": [
    "Define the confidence set function"
   ]
  },
  {
   "cell_type": "code",
   "execution_count": 4,
   "id": "61b751dc",
   "metadata": {},
   "outputs": [],
   "source": [
    "def phi_inverse(x, v):\n",
    "    #phi inverse function for confidence ellipsoids\n",
    "    return 2*np.sqrt(x/v)"
   ]
  },
  {
   "cell_type": "markdown",
   "id": "33c0b6f0",
   "metadata": {},
   "source": [
    "Choose an estimator at time instant t. IF the estimator chosen at time instant t-1, still meet the conditions choose that one. Other wise choose another estimator that meets the conditions randomly."
   ]
  },
  {
   "cell_type": "code",
   "execution_count": 5,
   "id": "329fa266",
   "metadata": {},
   "outputs": [],
   "source": [
    "def UCBalpha(I, CS, K, pre, init=True):  \n",
    "    '''\n",
    "    Parameters:\n",
    "    I --> epsilon list for possible alpha values\n",
    "    CS --> confidence sets (K, 2) dimensional\n",
    "    pre --> alpha value chosen at the previous time instant\n",
    "    \n",
    "    Outputs:\n",
    "    opt_alpha --> K-dimension sampling probability estimator\n",
    "    \n",
    "    '''\n",
    "    opt_alpha_SET = [] #only alpha scalar values\n",
    "    opt_alpha_SET_actual = [] #alpha vectors\n",
    "    arm_set = []\n",
    "    opt_alpha = np.zeros((K))\n",
    "    temp_alpha = np.zeros((K))\n",
    "    \n",
    "    non_zero_indices = np.nonzero(pre)[0]\n",
    "    \n",
    "    \n",
    "    for idx, alphaT in enumerate(I):\n",
    "        C_temp = np.zeros((2))\n",
    "        \n",
    "        temp = np.zeros((2))\n",
    "        \n",
    "        for i in range(K):\n",
    "            for j in range(i+1, K): \n",
    "                '''\n",
    "                only add the alpha values that can create a confidence set with a range that can \n",
    "                have 1/2 in it\n",
    "                '''\n",
    "                temp[0] = alphaT*CS[i][0]+(1-alphaT)*CS[j][0]\n",
    "                temp[1] = alphaT*CS[i][1]+(1-alphaT)*CS[j][1]\n",
    "      \n",
    "                if temp[0] <= 1/2 <= temp[1]:\n",
    "                    temp_alpha = np.zeros((K))\n",
    "                    opt_alpha_SET.append(alphaT)\n",
    "                    arm_set.append([i, j])\n",
    "                    temp_alpha[i] = alphaT\n",
    "                    temp_alpha[j] = 1-alphaT\n",
    "\n",
    "                    opt_alpha_SET_actual.append(temp_alpha)\n",
    "                    \n",
    "\n",
    "                else:\n",
    "                    pass\n",
    "            \n",
    "    #if the alpha vector chosen at the previous time instant \n",
    "    #was added to be possibly chosen then choose that alpha again\n",
    "    if np.any(np.all(pre == np.array(opt_alpha_SET_actual), axis=1)):\n",
    "        opt_alpha = pre\n",
    "\n",
    "       \n",
    "\n",
    "    else: \n",
    "        random_idx = np.random.randint(len(opt_alpha_SET))\n",
    "\n",
    "        opt_alpha_value = opt_alpha_SET[random_idx]\n",
    "\n",
    "        opt_alpha[arm_set[random_idx][0]] = opt_alpha_value\n",
    "\n",
    "        opt_alpha[arm_set[random_idx][1]] = 1-opt_alpha_value\n",
    "        \n",
    "        \n",
    "    return opt_alpha "
   ]
  },
  {
   "cell_type": "markdown",
   "id": "d78ad2c7",
   "metadata": {},
   "source": [
    "Run the main algorithm function <br />  \n",
    "First run the exploration stage. Then, do under-sampling."
   ]
  },
  {
   "cell_type": "code",
   "execution_count": 6,
   "id": "eb4d717d",
   "metadata": {},
   "outputs": [],
   "source": [
    "def UCBK(zeta=0.05, K=5, T = 100000, pb = [0.35, 0.85, 0.4, 0.7, 0.01], v=2, L=1, q=1):\n",
    "    '''\n",
    "    Parameters:\n",
    "    \n",
    "    Output:\n",
    "    '''\n",
    "    eps = np.sqrt(K/T)*np.sqrt(np.log(T))\n",
    "    I = np.linspace(0, 1, int(np.ceil(1/eps)))\n",
    "\n",
    "    tau_T = np.zeros((K))\n",
    "\n",
    "    #pb = [p1, p2, p3, p4, p5]\n",
    "\n",
    "    emp_pb = np.zeros((K))\n",
    "    \n",
    "    CS = np.zeros((K, 2))\n",
    "    \n",
    "    regrets = []\n",
    "    \n",
    "    opt_alpha = np.zeros((K))\n",
    "    \n",
    "    #EXPLORATION\n",
    "    starttime = 0\n",
    "    for i in range(K):\n",
    "        for time in range(starttime, starttime + int(zeta*T)):\n",
    "            reward = np.random.binomial(size=1, n=1, p=(pb[i]))\n",
    "            \n",
    "            emp_pb[i] = float(emp_pb[i]*tau_T[i] + reward)/(tau_T[i] + 1)\n",
    "            \n",
    "            tau_T[i] += 1\n",
    "            \n",
    "    \n",
    "        starttime = time + 1\n",
    "        \n",
    "        \n",
    "    #CREATING CONFIDENCE SETS AFTER EXPLORATION   \n",
    "    for i in range(K):    \n",
    "        CS[i][1] = min(emp_pb[i] + phi_inverse(np.log(T)/tau_T[i], v), 1)\n",
    "        CS[i][0] = max(emp_pb[i] - phi_inverse(np.log(T)/tau_T[i], v), 0)\n",
    "        \n",
    "    opt_alpha = UCBalpha(I, CS, K, pre=opt_alpha)\n",
    "    \n",
    "    \n",
    "\n",
    "    #UCB\n",
    "    for time in range(starttime, T):\n",
    "        #undersampling\n",
    "        chosen_arm = np.argmax(opt_alpha - tau_T/time)\n",
    "        \n",
    "        reward = np.random.binomial(size=1, n=1, p=(pb[chosen_arm]))\n",
    "        \n",
    "        emp_pb[chosen_arm] = float(emp_pb[chosen_arm]*tau_T[chosen_arm] + reward)/(tau_T[chosen_arm] + 1)\n",
    "\n",
    "        tau_T[chosen_arm] += 1\n",
    "        \n",
    "        #update the confidence sets\n",
    "        for i in range(K):\n",
    "            CS[i][1] = min(emp_pb[i] + phi_inverse(np.log(T)/tau_T[i], v), 1)\n",
    "            CS[i][0] = max(emp_pb[i] - phi_inverse(np.log(T)/tau_T[i], v), 0)\n",
    "        \n",
    "        #choose an alpha for the next time instant\n",
    "        opt_alpha = UCBalpha(I, CS, K, pre = opt_alpha)\n",
    "        \n",
    "\n",
    "    #calculate the simple regret\n",
    "    regret = 1/4-Utility(Mixtures(tau_T/T, pb))\n",
    "        \n",
    "    return regret, emp_pb, tau_T, CS\n",
    "\n",
    "    "
   ]
  },
  {
   "cell_type": "markdown",
   "id": "28b39a73",
   "metadata": {},
   "source": [
    "## Number of Arms Experiments\n"
   ]
  },
  {
   "cell_type": "markdown",
   "id": "dea6555e",
   "metadata": {},
   "source": [
    "K_list := list of different number of arms <br />\n",
    "file_path := name of the txt file for data to be saved <br />\n",
    "p1 := mean of the first arm <br />\n",
    "p2 := mean of the second arm <br />\n",
    "zeta := exploration coefficient <br />"
   ]
  },
  {
   "cell_type": "code",
   "execution_count": 7,
   "id": "29252f38",
   "metadata": {},
   "outputs": [],
   "source": [
    "T = 300000\n",
    "K_list = [2, 3, 4, 5, 6]\n",
    "pb = [0.45, 0.60, 0.75, 0.9, 0.3 , 0.15]\n",
    "\n",
    "file_path = \"Regrets_K.txt\"\n",
    "for K in K_list:\n",
    "    for save_idx in range(1000):\n",
    "        regret, emp_pb, tau_T, CS = UCBK(zeta=0.05, K=K, T = T, pb=pb[:K], v=2)\n",
    "        \n",
    "\n",
    "        with open(file_path, \"a+\") as file:\n",
    "            file.write(f'T={T}, zeta={0.05}, K={K}, pb={pb}, RESULT: tau(T)={tau_T}, emp_pb={emp_pb} \\n')"
   ]
  },
  {
   "cell_type": "markdown",
   "id": "4d98cd67",
   "metadata": {},
   "source": [
    "## Exploration Coefficient Experiments\n"
   ]
  },
  {
   "cell_type": "markdown",
   "id": "193fc6d5",
   "metadata": {},
   "source": [
    "zeta_list := list of different number of arms <br />\n",
    "file_path := name of the txt file for data to be saved <br />\n",
    "pb := list of means of the arms <br />\n",
    "T := time horizon <br />"
   ]
  },
  {
   "cell_type": "code",
   "execution_count": 9,
   "id": "41831a80",
   "metadata": {},
   "outputs": [],
   "source": [
    "T = 75000\n",
    "K = 3\n",
    "pb = [0.1, 0.7, 0.4]\n",
    "\n",
    "zeta_list = [0.01, 0.03, 0.05, 0.075, 0.1, 0.2]\n",
    "\n",
    "file_path = \"Regrets_zeta.txt\"\n",
    "for zeta in zeta_list:\n",
    "    for save_idx in range(1000):\n",
    "        regret, emp_pb, tau_T, CS = UCBK(zeta=zeta, K=K, T = T, pb=pb, v=2, L=1)\n",
    "        \n",
    "\n",
    "        with open(file_path, \"a+\") as file:\n",
    "            file.write(f'T={T}, zeta={zeta}, K={K}, pb={pb}, RESULT: tau(T)={tau_T}, emp_pb={emp_pb} \\n')"
   ]
  }
 ],
 "metadata": {
  "kernelspec": {
   "display_name": "Python 3 (ipykernel)",
   "language": "python",
   "name": "python3"
  },
  "language_info": {
   "codemirror_mode": {
    "name": "ipython",
    "version": 3
   },
   "file_extension": ".py",
   "mimetype": "text/x-python",
   "name": "python",
   "nbconvert_exporter": "python",
   "pygments_lexer": "ipython3",
   "version": "3.11.4"
  }
 },
 "nbformat": 4,
 "nbformat_minor": 5
}
