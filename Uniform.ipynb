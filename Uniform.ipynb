{
 "cells": [
  {
   "cell_type": "markdown",
   "id": "4da1aafa",
   "metadata": {},
   "source": [
    "# Uniform Sampling"
   ]
  },
  {
   "cell_type": "code",
   "execution_count": 1,
   "id": "9f13e754",
   "metadata": {},
   "outputs": [],
   "source": [
    "import numpy as np"
   ]
  },
  {
   "cell_type": "code",
   "execution_count": 2,
   "id": "16000cf7",
   "metadata": {},
   "outputs": [],
   "source": [
    "def Mixtures(tauO, p_arms):\n",
    "    p_out = 0\n",
    "    for i in range(len(tauO)):\n",
    "        p_out += tauO[i]*p_arms[i]\n",
    "    return p_out"
   ]
  },
  {
   "cell_type": "code",
   "execution_count": 3,
   "id": "d83c63a9",
   "metadata": {},
   "outputs": [],
   "source": [
    "def Utility(p):\n",
    "    return p*(1-p)"
   ]
  },
  {
   "cell_type": "code",
   "execution_count": 4,
   "id": "925cd03b",
   "metadata": {},
   "outputs": [],
   "source": [
    "def EXPLORE(K=2, T = 100000, pb = [0.35, 0.85], v=2, L=1):\n",
    "    tau_T = np.zeros((K))\n",
    "\n",
    "    emp_pb = np.zeros((K))\n",
    "    \n",
    "    regrets = []\n",
    "    \n",
    "    #EXPLORATION\n",
    "    starttime = 0\n",
    "    for i in range(K):\n",
    "        for time in range(starttime, starttime + int(T/K)):\n",
    "            reward = np.random.binomial(size=1, n=1, p=(pb[i]))\n",
    "            \n",
    "            emp_pb[i] = float(emp_pb[i]*tau_T[i] + reward)/(tau_T[i] + 1)\n",
    "            \n",
    "            tau_T[i] += 1\n",
    "            \n",
    "    \n",
    "        starttime = time + 1\n",
    "        \n",
    "        \n",
    "    regret = 1/4-Utility(Mixtures(tau_T/T, pb))\n",
    "        \n",
    "    return regret, emp_pb, tau_T\n",
    "\n",
    "    "
   ]
  },
  {
   "cell_type": "markdown",
   "id": "1fd0b8ef",
   "metadata": {},
   "source": [
    "## Time Horizon Experiments"
   ]
  },
  {
   "cell_type": "markdown",
   "id": "f2736315",
   "metadata": {},
   "source": [
    "T_list := list of different time horizons <br />\n",
    "file_path := name of the txt file for data to be saved <br />\n",
    "pb[0] := mean of the first arm <br />\n",
    "pb[1] := mean of the second arm <br />"
   ]
  },
  {
   "cell_type": "code",
   "execution_count": 11,
   "id": "aa90a6df",
   "metadata": {},
   "outputs": [],
   "source": [
    "T_list = [100000, 200000, 300000, 400000, 500000]\n",
    "pb = [0.4, 0.9]\n",
    "\n",
    "file_path = \"Regrets_UNI_T.txt\"\n",
    "for T in T_list:\n",
    "    for save_idx in range(1000):\n",
    "        regret, emp_pb, tau_T = EXPLORE(K=2, T = T, pb=pb[:2], v=2, L=1)\n",
    "        \n",
    "\n",
    "        with open(file_path, \"a+\") as file:\n",
    "            file.write(f'T={T}, K={2}, pb={pb}, RESULT: tau(T)={tau_T}, emp_pb={emp_pb} \\n')"
   ]
  }
 ],
 "metadata": {
  "kernelspec": {
   "display_name": "Python 3 (ipykernel)",
   "language": "python",
   "name": "python3"
  },
  "language_info": {
   "codemirror_mode": {
    "name": "ipython",
    "version": 3
   },
   "file_extension": ".py",
   "mimetype": "text/x-python",
   "name": "python",
   "nbconvert_exporter": "python",
   "pygments_lexer": "ipython3",
   "version": "3.11.4"
  }
 },
 "nbformat": 4,
 "nbformat_minor": 5
}
